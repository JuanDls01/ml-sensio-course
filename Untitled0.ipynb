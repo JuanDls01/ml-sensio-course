{
  "nbformat": 4,
  "nbformat_minor": 0,
  "metadata": {
    "colab": {
      "provenance": [],
      "authorship_tag": "ABX9TyOtSyp9h20u6j2jQ0guRHFo",
      "include_colab_link": true
    },
    "kernelspec": {
      "name": "python3",
      "display_name": "Python 3"
    },
    "language_info": {
      "name": "python"
    }
  },
  "cells": [
    {
      "cell_type": "markdown",
      "metadata": {
        "id": "view-in-github",
        "colab_type": "text"
      },
      "source": [
        "<a href=\"https://colab.research.google.com/github/JuanDls01/ml-sensio-course/blob/main/Untitled0.ipynb\" target=\"_parent\"><img src=\"https://colab.research.google.com/assets/colab-badge.svg\" alt=\"Open In Colab\"/></a>"
      ]
    },
    {
      "cell_type": "markdown",
      "source": [],
      "metadata": {
        "id": "O1RxOMElzHPU"
      }
    },
    {
      "cell_type": "code",
      "execution_count": 1,
      "metadata": {
        "id": "5vXi7uxSx9U6",
        "outputId": "864aa39f-7c3e-4b9d-ac1e-3ebbac57b424",
        "colab": {
          "base_uri": "https://localhost:8080/"
        }
      },
      "outputs": [
        {
          "output_type": "execute_result",
          "data": {
            "text/plain": [
              "array([1, 2, 3, 4])"
            ]
          },
          "metadata": {},
          "execution_count": 1
        }
      ],
      "source": [
        "import numpy as np\n",
        "\n",
        "x = np.array([1, 2, 3, 4])\n",
        "\n",
        "x"
      ]
    },
    {
      "cell_type": "code",
      "source": [
        "l = [[1,2], [3, 4]]\n",
        "\n",
        "A = np.array(l)\n",
        "\n",
        "A[0,0]"
      ],
      "metadata": {
        "id": "asJwB5NszBKC",
        "outputId": "e8dac9db-0326-4818-92c0-9e6d0e99d01f",
        "colab": {
          "base_uri": "https://localhost:8080/"
        }
      },
      "execution_count": 3,
      "outputs": [
        {
          "output_type": "execute_result",
          "data": {
            "text/plain": [
              "1"
            ]
          },
          "metadata": {},
          "execution_count": 3
        }
      ]
    },
    {
      "cell_type": "markdown",
      "source": [
        "### Tensores"
      ],
      "metadata": {
        "id": "GB7gn3HazywP"
      }
    },
    {
      "cell_type": "markdown",
      "source": [
        "Un tensor es una secuencia de valores dispuesta en una malla regular con un número arbitrario de dimensiones. Podemos ver un escalar como un tensor con 0 dimensiones, un vector como un tensor de 1 dimensión y una matriz como un tensor de 2 dimensiones. Así pues, hablamos de tensores en general como la estructura de datos que engloba las estructuras vistas anteriormente y cualquier otra con mayor número de dimensiones"
      ],
      "metadata": {
        "id": "YCh3lFwez5Cf"
      }
    },
    {
      "cell_type": "code",
      "source": [
        "# un tensor de 3 dimensiones se pueden interpretar como dos matrices:\n",
        "\n",
        "A = np.array([[[1,2],[3,4]],[[1,2],[3,4]]])\n",
        "\n",
        "A"
      ],
      "metadata": {
        "id": "4loIXlKA0S9U",
        "outputId": "99f5f8b6-bc4c-4984-a7d1-9b94441dd0b6",
        "colab": {
          "base_uri": "https://localhost:8080/"
        }
      },
      "execution_count": 4,
      "outputs": [
        {
          "output_type": "execute_result",
          "data": {
            "text/plain": [
              "array([[[1, 2],\n",
              "        [3, 4]],\n",
              "\n",
              "       [[1, 2],\n",
              "        [3, 4]]])"
            ]
          },
          "metadata": {},
          "execution_count": 4
        }
      ]
    },
    {
      "cell_type": "markdown",
      "source": [
        "### Operaciones"
      ],
      "metadata": {
        "id": "Kfi_apSy003g"
      }
    },
    {
      "cell_type": "code",
      "source": [
        "A = np.arange(10).reshape(2,5)\n",
        "A"
      ],
      "metadata": {
        "id": "eEBZgH4805vV",
        "outputId": "783a793e-2582-4eb7-bd80-e23b388c3873",
        "colab": {
          "base_uri": "https://localhost:8080/"
        }
      },
      "execution_count": 10,
      "outputs": [
        {
          "output_type": "execute_result",
          "data": {
            "text/plain": [
              "array([[0, 1, 2, 3, 4],\n",
              "       [5, 6, 7, 8, 9]])"
            ]
          },
          "metadata": {},
          "execution_count": 10
        }
      ]
    },
    {
      "cell_type": "code",
      "source": [
        "# Transpuesta\n",
        "A.T"
      ],
      "metadata": {
        "id": "tpwmE7HO1JfB",
        "outputId": "0d3fdd8e-4253-4601-fe9b-6f134f8cbfb7",
        "colab": {
          "base_uri": "https://localhost:8080/"
        }
      },
      "execution_count": 8,
      "outputs": [
        {
          "output_type": "execute_result",
          "data": {
            "text/plain": [
              "array([[0, 5],\n",
              "       [1, 6],\n",
              "       [2, 7],\n",
              "       [3, 8],\n",
              "       [4, 9]])"
            ]
          },
          "metadata": {},
          "execution_count": 8
        }
      ]
    },
    {
      "cell_type": "code",
      "source": [
        "A = np.random.randn(3,3)\n",
        "B = np.random.randn(3,3)\n",
        "\n",
        "A + B"
      ],
      "metadata": {
        "id": "lwYRXOTS1cMB",
        "outputId": "85e0a8ab-13e3-46dc-b4cc-88105de9b242",
        "colab": {
          "base_uri": "https://localhost:8080/"
        }
      },
      "execution_count": 12,
      "outputs": [
        {
          "output_type": "execute_result",
          "data": {
            "text/plain": [
              "array([[ 1.05410491, -2.06349603,  0.98888597],\n",
              "       [-1.4224835 , -1.4986565 ,  3.16989866],\n",
              "       [ 1.67409439, -0.65473113,  1.25145639]])"
            ]
          },
          "metadata": {},
          "execution_count": 12
        }
      ]
    },
    {
      "cell_type": "code",
      "source": [
        "C1 = A.dot(B)\n",
        "C2 = A @ B\n",
        "\n",
        "C1, C2"
      ],
      "metadata": {
        "id": "-zvP6r011z7Q",
        "outputId": "af76b6e0-5945-48cf-9602-af571ddb7d49",
        "colab": {
          "base_uri": "https://localhost:8080/"
        }
      },
      "execution_count": 13,
      "outputs": [
        {
          "output_type": "execute_result",
          "data": {
            "text/plain": [
              "(array([[ 1.08547842, -1.72489403, -0.08747418],\n",
              "        [ 2.24612364, -1.70769331, -0.29016597],\n",
              "        [-0.36523434, -0.57437805,  0.93449258]]),\n",
              " array([[ 1.08547842, -1.72489403, -0.08747418],\n",
              "        [ 2.24612364, -1.70769331, -0.29016597],\n",
              "        [-0.36523434, -0.57437805,  0.93449258]]))"
            ]
          },
          "metadata": {},
          "execution_count": 13
        }
      ]
    },
    {
      "cell_type": "code",
      "source": [
        "# Matriz identidad\n",
        "I = np.eye(3)\n",
        "I"
      ],
      "metadata": {
        "id": "tXNm8lve2D8D",
        "outputId": "9847fbad-2165-4b9b-80ec-297d6b0326be",
        "colab": {
          "base_uri": "https://localhost:8080/"
        }
      },
      "execution_count": 15,
      "outputs": [
        {
          "output_type": "execute_result",
          "data": {
            "text/plain": [
              "array([[1., 0., 0.],\n",
              "       [0., 1., 0.],\n",
              "       [0., 0., 1.]])"
            ]
          },
          "metadata": {},
          "execution_count": 15
        }
      ]
    },
    {
      "cell_type": "code",
      "source": [
        "# Matriz inversa\n",
        "import numpy.linalg as linalg\n",
        "\n",
        "A = np.array([[1,2,3],[5,7,11],[21,29,31]])\n",
        "A"
      ],
      "metadata": {
        "id": "eGzlHXEZ2Pow",
        "outputId": "a6c0cf3a-3b21-4b40-aef0-6b779fcab4cf",
        "colab": {
          "base_uri": "https://localhost:8080/"
        }
      },
      "execution_count": 18,
      "outputs": [
        {
          "output_type": "execute_result",
          "data": {
            "text/plain": [
              "array([[ 1,  2,  3],\n",
              "       [ 5,  7, 11],\n",
              "       [21, 29, 31]])"
            ]
          },
          "metadata": {},
          "execution_count": 18
        }
      ]
    },
    {
      "cell_type": "code",
      "source": [
        "linalg.inv(A)"
      ],
      "metadata": {
        "id": "IFS7042h3xeL",
        "outputId": "a4d47631-5ce0-472f-ce09-9f9b61327899",
        "colab": {
          "base_uri": "https://localhost:8080/"
        }
      },
      "execution_count": 19,
      "outputs": [
        {
          "output_type": "execute_result",
          "data": {
            "text/plain": [
              "array([[-2.31818182,  0.56818182,  0.02272727],\n",
              "       [ 1.72727273, -0.72727273,  0.09090909],\n",
              "       [-0.04545455,  0.29545455, -0.06818182]])"
            ]
          },
          "metadata": {},
          "execution_count": 19
        }
      ]
    },
    {
      "cell_type": "code",
      "source": [
        "# Descomposición de matrices\n",
        "\n",
        "L, V = linalg.eig(A)\n",
        "L,V"
      ],
      "metadata": {
        "id": "XKrQfM2r4IjA",
        "outputId": "49fda8f6-3906-4a35-b3d1-73a6138279c7",
        "colab": {
          "base_uri": "https://localhost:8080/"
        }
      },
      "execution_count": 20,
      "outputs": [
        {
          "output_type": "execute_result",
          "data": {
            "text/plain": [
              "(array([42.26600592, -0.35798416, -2.90802176]),\n",
              " array([[-0.08381182, -0.76283526, -0.18913107],\n",
              "        [-0.3075286 ,  0.64133975, -0.6853186 ],\n",
              "        [-0.94784057, -0.08225377,  0.70325518]]))"
            ]
          },
          "metadata": {},
          "execution_count": 20
        }
      ]
    }
  ]
}